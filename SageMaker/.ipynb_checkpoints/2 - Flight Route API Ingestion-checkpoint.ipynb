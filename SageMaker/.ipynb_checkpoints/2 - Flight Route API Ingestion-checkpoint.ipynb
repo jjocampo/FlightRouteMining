{
 "cells": [
  {
   "cell_type": "markdown",
   "metadata": {},
   "source": [
    "# 2 - Flight Route API Ingestion"
   ]
  },
  {
   "cell_type": "markdown",
   "metadata": {},
   "source": [
    "Grabbed a cheap API key from Aviation Edge to grab a variety of aviation data. \n",
    "https://aviation-edge.com/"
   ]
  },
  {
   "cell_type": "markdown",
   "metadata": {},
   "source": [
    "----"
   ]
  },
  {
   "cell_type": "markdown",
   "metadata": {},
   "source": [
    "<b>Imports</b>"
   ]
  },
  {
   "cell_type": "code",
   "execution_count": 1,
   "metadata": {},
   "outputs": [],
   "source": [
    "import requests\n",
    "import getpass\n",
    "import json\n",
    "import boto3"
   ]
  },
  {
   "cell_type": "markdown",
   "metadata": {},
   "source": [
    "<b>Airline codes to search for</b>  \n",
    "https://en.wikipedia.org/wiki/List_of_airline_codes"
   ]
  },
  {
   "cell_type": "code",
   "execution_count": 16,
   "metadata": {},
   "outputs": [],
   "source": [
    "airline_search_list = ['AA','DL','WN','MQ','FX','F9','NK']"
   ]
  },
  {
   "cell_type": "code",
   "execution_count": 3,
   "metadata": {},
   "outputs": [],
   "source": [
    "bucket_name = 'flight-route-mining'"
   ]
  },
  {
   "cell_type": "code",
   "execution_count": 4,
   "metadata": {},
   "outputs": [
    {
     "name": "stdin",
     "output_type": "stream",
     "text": [
      "Key:  ·············\n"
     ]
    }
   ],
   "source": [
    "api_key = getpass.getpass(\"Key: \") #shhh you don't need to know this"
   ]
  },
  {
   "cell_type": "code",
   "execution_count": 6,
   "metadata": {},
   "outputs": [],
   "source": [
    "route_api_url = 'https://aviation-edge.com/v2/public/routes'"
   ]
  },
  {
   "cell_type": "markdown",
   "metadata": {},
   "source": [
    "<b>Create boto3 client</b>"
   ]
  },
  {
   "cell_type": "code",
   "execution_count": 5,
   "metadata": {},
   "outputs": [],
   "source": [
    "s3 = boto3.client('s3',\n",
    "    region_name = 'us-east-1'\n",
    "                 )"
   ]
  },
  {
   "cell_type": "markdown",
   "metadata": {},
   "source": [
    "<b>Route functions</b>"
   ]
  },
  {
   "cell_type": "code",
   "execution_count": 18,
   "metadata": {},
   "outputs": [],
   "source": [
    "def create_api_param_route(f_key, f_airline_lata):\n",
    "    \"\"\"\n",
    "    Returns a dictionary of formatted for API call. \n",
    "    \"\"\"\n",
    "    return {\"key\": f_key, \"airlineiata\": f_airline_lata}\n",
    "\n",
    "\n",
    "def call_route_api(f_route_api_url, f_params):\n",
    "    \"\"\"\n",
    "    Makes API call and returns JSON data.\n",
    "    \"\"\"\n",
    "    try: \n",
    "        tmp_response = requests.get( f_route_api_url, params = f_params )\n",
    "        call_status = tmp_response.status_code\n",
    "        if call_status == 200: \n",
    "            return tmp_response.json()\n",
    "    except: \n",
    "        print('Error in API call')\n",
    "\n",
    "\n",
    "def main_api_calls(f_search_list, f_key, f_bucket):\n",
    "    \"\"\"\n",
    "    Main function for searching and storing results. \n",
    "    For each call, stores JSON in S3\n",
    "    \"\"\"\n",
    "    f_route_api_url = 'https://aviation-edge.com/v2/public/routes'\n",
    "    try: \n",
    "        for airlineiata in f_search_list:\n",
    "            tmp_param = create_api_param_route(f_key, airlineiata)\n",
    "            tmp_data = call_route_api(f_route_api_url, tmp_param)\n",
    "            file_key = 'FlightRouteMining_' + airlineiata +'.json'\n",
    "            s3.put_object(Body=str(tmp_data), Bucket=f_bucket, Key=file_key) \n",
    "            print('Success for {}'.format(airlineiata))\n",
    "    except:\n",
    "        print('Error encountered with main_api_calls')"
   ]
  },
  {
   "cell_type": "code",
   "execution_count": 19,
   "metadata": {},
   "outputs": [
    {
     "name": "stdout",
     "output_type": "stream",
     "text": [
      "Success for AA\n",
      "Success for DL\n",
      "Success for WN\n"
     ]
    }
   ],
   "source": [
    "main_api_calls( airline_search_list, api_key, bucket_name )"
   ]
  },
  {
   "cell_type": "markdown",
   "metadata": {},
   "source": [
    "<b>Airports API Call</b>"
   ]
  },
  {
   "cell_type": "code",
   "execution_count": 39,
   "metadata": {},
   "outputs": [],
   "source": [
    "def call_airports_api(f_key, f_bucket_name):\n",
    "    \"\"\"\n",
    "    Makes API call and returns JSON data.\n",
    "    \"\"\"\n",
    "    f_api_url = 'https://aviation-edge.com/v2/public/airportDatabase'\n",
    "    f_params = {\"key\": f_key}\n",
    "    try: \n",
    "        tmp_response = requests.get( f_api_url, params = f_params )\n",
    "        call_status = tmp_response.status_code\n",
    "        if call_status == 200: \n",
    "            tmp_data = tmp_response.json()\n",
    "            file_key = 'FlightRouteMining_Airports' + '.json'\n",
    "            s3.put_object(Body=str(tmp_data), Bucket=f_bucket_name, Key=file_key)\n",
    "        print('Success in Airports API call')\n",
    "    except: \n",
    "        print('Error in Airports API call')"
   ]
  },
  {
   "cell_type": "code",
   "execution_count": 41,
   "metadata": {},
   "outputs": [
    {
     "name": "stdout",
     "output_type": "stream",
     "text": [
      "Success in Airports API call\n"
     ]
    }
   ],
   "source": [
    "call_airports_api(api_key, bucket_name)"
   ]
  },
  {
   "cell_type": "markdown",
   "metadata": {},
   "source": [
    "<b>Airlines API Call</b>"
   ]
  },
  {
   "cell_type": "code",
   "execution_count": 42,
   "metadata": {},
   "outputs": [],
   "source": [
    "def call_airline_api(f_key, f_bucket_name):\n",
    "    \"\"\"\n",
    "    Makes API call and returns JSON data.\n",
    "    \"\"\"\n",
    "    f_api_url = 'https://aviation-edge.com/v2/public/airlineDatabase'\n",
    "    f_params = {\"key\": f_key}\n",
    "    try: \n",
    "        tmp_response = requests.get( f_api_url, params = f_params )\n",
    "        call_status = tmp_response.status_code\n",
    "        if call_status == 200: \n",
    "            tmp_data = tmp_response.json()\n",
    "            file_key = 'FlightRouteMining_Airlines' + '.json'\n",
    "            s3.put_object(Body=str(tmp_data), Bucket=f_bucket_name, Key=file_key)\n",
    "        print('Success in Airlines API call')\n",
    "    except: \n",
    "        print('Error in Airlines API call')"
   ]
  },
  {
   "cell_type": "code",
   "execution_count": 43,
   "metadata": {},
   "outputs": [
    {
     "name": "stdout",
     "output_type": "stream",
     "text": [
      "Success in Airlines API call\n"
     ]
    }
   ],
   "source": [
    "call_airline_api(api_key, bucket_name)"
   ]
  }
 ],
 "metadata": {
  "kernelspec": {
   "display_name": "conda_python3",
   "language": "python",
   "name": "conda_python3"
  },
  "language_info": {
   "codemirror_mode": {
    "name": "ipython",
    "version": 3
   },
   "file_extension": ".py",
   "mimetype": "text/x-python",
   "name": "python",
   "nbconvert_exporter": "python",
   "pygments_lexer": "ipython3",
   "version": "3.6.10"
  }
 },
 "nbformat": 4,
 "nbformat_minor": 4
}
