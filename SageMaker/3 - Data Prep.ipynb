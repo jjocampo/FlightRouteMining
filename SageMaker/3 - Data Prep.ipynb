{
 "cells": [
  {
   "cell_type": "markdown",
   "metadata": {},
   "source": [
    "# 3 - Data Prep"
   ]
  },
  {
   "cell_type": "markdown",
   "metadata": {},
   "source": [
    "<b>Import</b>"
   ]
  },
  {
   "cell_type": "code",
   "execution_count": 1,
   "metadata": {},
   "outputs": [],
   "source": [
    "import time\n",
    "import boto3\n",
    "import pandas as pd\n",
    "import json\n",
    "import ast\n",
    "from io import StringIO"
   ]
  },
  {
   "cell_type": "markdown",
   "metadata": {},
   "source": [
    "<b>Declarations</b>"
   ]
  },
  {
   "cell_type": "code",
   "execution_count": 6,
   "metadata": {},
   "outputs": [],
   "source": [
    "bucket_name = 'flight-route-mining'"
   ]
  },
  {
   "cell_type": "markdown",
   "metadata": {},
   "source": [
    "<b>S3 Client</b>"
   ]
  },
  {
   "cell_type": "code",
   "execution_count": 4,
   "metadata": {},
   "outputs": [],
   "source": [
    "s3_client = boto3.client('s3')"
   ]
  },
  {
   "cell_type": "markdown",
   "metadata": {},
   "source": [
    "<b>File Listing</b>"
   ]
  },
  {
   "cell_type": "code",
   "execution_count": 7,
   "metadata": {},
   "outputs": [],
   "source": [
    "json_list = [i['Key'] for i in s3_client.list_objects(Bucket=bucket_name)['Contents']]"
   ]
  },
  {
   "cell_type": "markdown",
   "metadata": {},
   "source": [
    "<b>Helper Functions</b>"
   ]
  },
  {
   "cell_type": "code",
   "execution_count": 9,
   "metadata": {},
   "outputs": [],
   "source": [
    "def s3_file_location(f_bucket, f_file):\n",
    "    \"\"\"\n",
    "    Simply returns a formatted string with the S3 file location\n",
    "    \"\"\"\n",
    "    data_location = 's3://{}/{}'.format(f_bucket,f_file)\n",
    "    return data_location\n",
    "\n",
    "def json_file_to_dict(f_bucket, f_json_file):\n",
    "    \"\"\"\n",
    "    Intakes bucket and json file.\n",
    "    Returns dictionary.\n",
    "    \"\"\"\n",
    "    try:\n",
    "        json_s3_obj = s3_client.get_object( Bucket= f_bucket, Key = f_json_file )\n",
    "        tmp_str_json = json_s3_obj['Body'].read().decode('utf-8')\n",
    "        fnl_json = ast.literal_eval(tmp_str_json)\n",
    "        return fnl_json\n",
    "    except:\n",
    "        pass \n",
    "        print('Fail importing json file/')"
   ]
  },
  {
   "cell_type": "markdown",
   "metadata": {},
   "source": [
    "<b>Processing</b>"
   ]
  },
  {
   "cell_type": "code",
   "execution_count": 19,
   "metadata": {},
   "outputs": [
    {
     "data": {
      "text/plain": [
       "['FlightRouteMining_AA.json',\n",
       " 'FlightRouteMining_Airlines.json',\n",
       " 'FlightRouteMining_Airports.json',\n",
       " 'FlightRouteMining_DL.json',\n",
       " 'FlightRouteMining_WN.json']"
      ]
     },
     "execution_count": 19,
     "metadata": {},
     "output_type": "execute_result"
    }
   ],
   "source": [
    "json_list"
   ]
  },
  {
   "cell_type": "code",
   "execution_count": 20,
   "metadata": {},
   "outputs": [],
   "source": [
    "aa_json = json_file_to_dict(bucket_name, json_list[0])"
   ]
  },
  {
   "cell_type": "code",
   "execution_count": 25,
   "metadata": {},
   "outputs": [
    {
     "data": {
      "text/plain": [
       "dict"
      ]
     },
     "execution_count": 25,
     "metadata": {},
     "output_type": "execute_result"
    }
   ],
   "source": [
    "type(aa_json[0])"
   ]
  },
  {
   "cell_type": "code",
   "execution_count": 24,
   "metadata": {},
   "outputs": [
    {
     "data": {
      "text/plain": [
       "{'airlineIata': 'AA',\n",
       " 'airlineIcao': 'AAL',\n",
       " 'arrivalIata': 'JFK',\n",
       " 'arrivalIcao': 'KJFK',\n",
       " 'arrivalTerminal': '8',\n",
       " 'arrivalTime': '05:53:00',\n",
       " 'codeshares': [{'airline_code': 'AS', 'flight_number': '1749'},\n",
       "  {'airline_code': 'BA', 'flight_number': '4314'},\n",
       "  {'airline_code': 'EY', 'flight_number': '3002'},\n",
       "  {'airline_code': 'HU', 'flight_number': '8902'},\n",
       "  {'airline_code': 'QF', 'flight_number': '3089'},\n",
       "  {'airline_code': 'TN', 'flight_number': '1108'}],\n",
       " 'departureIata': 'LAX',\n",
       " 'departureIcao': 'KLAX',\n",
       " 'departureTerminal': '4',\n",
       " 'departureTime': '21:15:00',\n",
       " 'flightNumber': '10',\n",
       " 'regNumber': ['N101NN',\n",
       "  'N102NN',\n",
       "  'N103NN',\n",
       "  'N104NN',\n",
       "  'N105NN',\n",
       "  'N106NN',\n",
       "  'N107NN',\n",
       "  'N108NN',\n",
       "  'N109NN',\n",
       "  'N110AN',\n",
       "  'N111ZM',\n",
       "  'N112AN',\n",
       "  'N113AN',\n",
       "  'N114NN',\n",
       "  'N115NN',\n",
       "  'N116AN',\n",
       "  'N117AN']}"
      ]
     },
     "execution_count": 24,
     "metadata": {},
     "output_type": "execute_result"
    }
   ],
   "source": [
    "aa_json[1]"
   ]
  },
  {
   "cell_type": "code",
   "execution_count": 30,
   "metadata": {},
   "outputs": [],
   "source": [
    "test = list(aa_json[0].items())"
   ]
  },
  {
   "cell_type": "code",
   "execution_count": 31,
   "metadata": {},
   "outputs": [
    {
     "data": {
      "text/plain": [
       "[('airlineIata', 'AA'),\n",
       " ('airlineIcao', 'AAL'),\n",
       " ('arrivalIata', 'JFK'),\n",
       " ('arrivalIcao', 'KJFK'),\n",
       " ('arrivalTerminal', '8'),\n",
       " ('arrivalTime', '07:11:00'),\n",
       " ('codeshares',\n",
       "  [{'airline_code': 'AS', 'flight_number': '1568'},\n",
       "   {'airline_code': 'BA', 'flight_number': '2497'},\n",
       "   {'airline_code': 'CX', 'flight_number': '7723'},\n",
       "   {'airline_code': 'EY', 'flight_number': '3070'},\n",
       "   {'airline_code': 'JL', 'flight_number': '7453'},\n",
       "   {'airline_code': 'MH', 'flight_number': '9472'},\n",
       "   {'airline_code': 'QF', 'flight_number': '4646'}]),\n",
       " ('departureIata', 'BOS'),\n",
       " ('departureIcao', 'KBOS'),\n",
       " ('departureTerminal', 'B'),\n",
       " ('departureTime', '06:00:00'),\n",
       " ('flightNumber', '1'),\n",
       " ('regNumber', ['N151UW'])]"
      ]
     },
     "execution_count": 31,
     "metadata": {},
     "output_type": "execute_result"
    }
   ],
   "source": [
    "test"
   ]
  },
  {
   "cell_type": "code",
   "execution_count": 32,
   "metadata": {},
   "outputs": [],
   "source": [
    "test2 = pd.DataFrame(test)"
   ]
  },
  {
   "cell_type": "code",
   "execution_count": 33,
   "metadata": {},
   "outputs": [
    {
     "data": {
      "text/html": [
       "<div>\n",
       "<style scoped>\n",
       "    .dataframe tbody tr th:only-of-type {\n",
       "        vertical-align: middle;\n",
       "    }\n",
       "\n",
       "    .dataframe tbody tr th {\n",
       "        vertical-align: top;\n",
       "    }\n",
       "\n",
       "    .dataframe thead th {\n",
       "        text-align: right;\n",
       "    }\n",
       "</style>\n",
       "<table border=\"1\" class=\"dataframe\">\n",
       "  <thead>\n",
       "    <tr style=\"text-align: right;\">\n",
       "      <th></th>\n",
       "      <th>0</th>\n",
       "      <th>1</th>\n",
       "    </tr>\n",
       "  </thead>\n",
       "  <tbody>\n",
       "    <tr>\n",
       "      <th>0</th>\n",
       "      <td>airlineIata</td>\n",
       "      <td>AA</td>\n",
       "    </tr>\n",
       "    <tr>\n",
       "      <th>1</th>\n",
       "      <td>airlineIcao</td>\n",
       "      <td>AAL</td>\n",
       "    </tr>\n",
       "    <tr>\n",
       "      <th>2</th>\n",
       "      <td>arrivalIata</td>\n",
       "      <td>JFK</td>\n",
       "    </tr>\n",
       "    <tr>\n",
       "      <th>3</th>\n",
       "      <td>arrivalIcao</td>\n",
       "      <td>KJFK</td>\n",
       "    </tr>\n",
       "    <tr>\n",
       "      <th>4</th>\n",
       "      <td>arrivalTerminal</td>\n",
       "      <td>8</td>\n",
       "    </tr>\n",
       "    <tr>\n",
       "      <th>5</th>\n",
       "      <td>arrivalTime</td>\n",
       "      <td>07:11:00</td>\n",
       "    </tr>\n",
       "    <tr>\n",
       "      <th>6</th>\n",
       "      <td>codeshares</td>\n",
       "      <td>[{'airline_code': 'AS', 'flight_number': '1568...</td>\n",
       "    </tr>\n",
       "    <tr>\n",
       "      <th>7</th>\n",
       "      <td>departureIata</td>\n",
       "      <td>BOS</td>\n",
       "    </tr>\n",
       "    <tr>\n",
       "      <th>8</th>\n",
       "      <td>departureIcao</td>\n",
       "      <td>KBOS</td>\n",
       "    </tr>\n",
       "    <tr>\n",
       "      <th>9</th>\n",
       "      <td>departureTerminal</td>\n",
       "      <td>B</td>\n",
       "    </tr>\n",
       "    <tr>\n",
       "      <th>10</th>\n",
       "      <td>departureTime</td>\n",
       "      <td>06:00:00</td>\n",
       "    </tr>\n",
       "    <tr>\n",
       "      <th>11</th>\n",
       "      <td>flightNumber</td>\n",
       "      <td>1</td>\n",
       "    </tr>\n",
       "    <tr>\n",
       "      <th>12</th>\n",
       "      <td>regNumber</td>\n",
       "      <td>[N151UW]</td>\n",
       "    </tr>\n",
       "  </tbody>\n",
       "</table>\n",
       "</div>"
      ],
      "text/plain": [
       "                    0                                                  1\n",
       "0         airlineIata                                                 AA\n",
       "1         airlineIcao                                                AAL\n",
       "2         arrivalIata                                                JFK\n",
       "3         arrivalIcao                                               KJFK\n",
       "4     arrivalTerminal                                                  8\n",
       "5         arrivalTime                                           07:11:00\n",
       "6          codeshares  [{'airline_code': 'AS', 'flight_number': '1568...\n",
       "7       departureIata                                                BOS\n",
       "8       departureIcao                                               KBOS\n",
       "9   departureTerminal                                                  B\n",
       "10      departureTime                                           06:00:00\n",
       "11       flightNumber                                                  1\n",
       "12          regNumber                                           [N151UW]"
      ]
     },
     "execution_count": 33,
     "metadata": {},
     "output_type": "execute_result"
    }
   ],
   "source": [
    "test2"
   ]
  },
  {
   "cell_type": "code",
   "execution_count": 36,
   "metadata": {},
   "outputs": [],
   "source": [
    "test3 = list(aa_json[0].values())"
   ]
  },
  {
   "cell_type": "code",
   "execution_count": 40,
   "metadata": {},
   "outputs": [],
   "source": [
    "test4 = pd.DataFrame([test3])"
   ]
  },
  {
   "cell_type": "code",
   "execution_count": 41,
   "metadata": {},
   "outputs": [
    {
     "data": {
      "text/html": [
       "<div>\n",
       "<style scoped>\n",
       "    .dataframe tbody tr th:only-of-type {\n",
       "        vertical-align: middle;\n",
       "    }\n",
       "\n",
       "    .dataframe tbody tr th {\n",
       "        vertical-align: top;\n",
       "    }\n",
       "\n",
       "    .dataframe thead th {\n",
       "        text-align: right;\n",
       "    }\n",
       "</style>\n",
       "<table border=\"1\" class=\"dataframe\">\n",
       "  <thead>\n",
       "    <tr style=\"text-align: right;\">\n",
       "      <th></th>\n",
       "      <th>0</th>\n",
       "      <th>1</th>\n",
       "      <th>2</th>\n",
       "      <th>3</th>\n",
       "      <th>4</th>\n",
       "      <th>5</th>\n",
       "      <th>6</th>\n",
       "      <th>7</th>\n",
       "      <th>8</th>\n",
       "      <th>9</th>\n",
       "      <th>10</th>\n",
       "      <th>11</th>\n",
       "      <th>12</th>\n",
       "    </tr>\n",
       "  </thead>\n",
       "  <tbody>\n",
       "    <tr>\n",
       "      <th>0</th>\n",
       "      <td>AA</td>\n",
       "      <td>AAL</td>\n",
       "      <td>JFK</td>\n",
       "      <td>KJFK</td>\n",
       "      <td>8</td>\n",
       "      <td>07:11:00</td>\n",
       "      <td>[{'airline_code': 'AS', 'flight_number': '1568...</td>\n",
       "      <td>BOS</td>\n",
       "      <td>KBOS</td>\n",
       "      <td>B</td>\n",
       "      <td>06:00:00</td>\n",
       "      <td>1</td>\n",
       "      <td>[N151UW]</td>\n",
       "    </tr>\n",
       "  </tbody>\n",
       "</table>\n",
       "</div>"
      ],
      "text/plain": [
       "    0    1    2     3  4         5  \\\n",
       "0  AA  AAL  JFK  KJFK  8  07:11:00   \n",
       "\n",
       "                                                   6    7     8  9        10  \\\n",
       "0  [{'airline_code': 'AS', 'flight_number': '1568...  BOS  KBOS  B  06:00:00   \n",
       "\n",
       "  11        12  \n",
       "0  1  [N151UW]  "
      ]
     },
     "execution_count": 41,
     "metadata": {},
     "output_type": "execute_result"
    }
   ],
   "source": [
    "test4"
   ]
  },
  {
   "cell_type": "code",
   "execution_count": 47,
   "metadata": {},
   "outputs": [],
   "source": [
    "flight_list = []\n",
    "for item in aa_json:\n",
    "    flight_list.append(list(item.values()))"
   ]
  },
  {
   "cell_type": "code",
   "execution_count": 48,
   "metadata": {},
   "outputs": [],
   "source": [
    "aa_flight_df = pd.DataFrame( flight_list )"
   ]
  },
  {
   "cell_type": "code",
   "execution_count": 49,
   "metadata": {},
   "outputs": [
    {
     "data": {
      "text/html": [
       "<div>\n",
       "<style scoped>\n",
       "    .dataframe tbody tr th:only-of-type {\n",
       "        vertical-align: middle;\n",
       "    }\n",
       "\n",
       "    .dataframe tbody tr th {\n",
       "        vertical-align: top;\n",
       "    }\n",
       "\n",
       "    .dataframe thead th {\n",
       "        text-align: right;\n",
       "    }\n",
       "</style>\n",
       "<table border=\"1\" class=\"dataframe\">\n",
       "  <thead>\n",
       "    <tr style=\"text-align: right;\">\n",
       "      <th></th>\n",
       "      <th>0</th>\n",
       "      <th>1</th>\n",
       "      <th>2</th>\n",
       "      <th>3</th>\n",
       "      <th>4</th>\n",
       "      <th>5</th>\n",
       "      <th>6</th>\n",
       "      <th>7</th>\n",
       "      <th>8</th>\n",
       "      <th>9</th>\n",
       "      <th>10</th>\n",
       "      <th>11</th>\n",
       "      <th>12</th>\n",
       "    </tr>\n",
       "  </thead>\n",
       "  <tbody>\n",
       "    <tr>\n",
       "      <th>0</th>\n",
       "      <td>AA</td>\n",
       "      <td>AAL</td>\n",
       "      <td>JFK</td>\n",
       "      <td>KJFK</td>\n",
       "      <td>8</td>\n",
       "      <td>07:11:00</td>\n",
       "      <td>[{'airline_code': 'AS', 'flight_number': '1568...</td>\n",
       "      <td>BOS</td>\n",
       "      <td>KBOS</td>\n",
       "      <td>B</td>\n",
       "      <td>06:00:00</td>\n",
       "      <td>1</td>\n",
       "      <td>[N151UW]</td>\n",
       "    </tr>\n",
       "    <tr>\n",
       "      <th>1</th>\n",
       "      <td>AA</td>\n",
       "      <td>AAL</td>\n",
       "      <td>JFK</td>\n",
       "      <td>KJFK</td>\n",
       "      <td>8</td>\n",
       "      <td>05:53:00</td>\n",
       "      <td>[{'airline_code': 'AS', 'flight_number': '1749...</td>\n",
       "      <td>LAX</td>\n",
       "      <td>KLAX</td>\n",
       "      <td>4</td>\n",
       "      <td>21:15:00</td>\n",
       "      <td>10</td>\n",
       "      <td>[N101NN, N102NN, N103NN, N104NN, N105NN, N106N...</td>\n",
       "    </tr>\n",
       "    <tr>\n",
       "      <th>2</th>\n",
       "      <td>AA</td>\n",
       "      <td>AAL</td>\n",
       "      <td>LHR</td>\n",
       "      <td>EGLL</td>\n",
       "      <td>3</td>\n",
       "      <td>06:20:00</td>\n",
       "      <td>[{'airline_code': 'AY', 'flight_number': '4012...</td>\n",
       "      <td>JFK</td>\n",
       "      <td>KJFK</td>\n",
       "      <td>8</td>\n",
       "      <td>18:15:00</td>\n",
       "      <td>100</td>\n",
       "      <td>[N756AM, N759AN, N760AN, N773AN, N788AN, N717A...</td>\n",
       "    </tr>\n",
       "    <tr>\n",
       "      <th>3</th>\n",
       "      <td>AA</td>\n",
       "      <td>AAL</td>\n",
       "      <td>TPA</td>\n",
       "      <td>KTPA</td>\n",
       "      <td>None</td>\n",
       "      <td>15:41:00</td>\n",
       "      <td>[{'airline_code': 'AS', 'flight_number': '1179...</td>\n",
       "      <td>DFW</td>\n",
       "      <td>KDFW</td>\n",
       "      <td>C</td>\n",
       "      <td>12:15:00</td>\n",
       "      <td>1000</td>\n",
       "      <td>[N555AN]</td>\n",
       "    </tr>\n",
       "    <tr>\n",
       "      <th>4</th>\n",
       "      <td>AA</td>\n",
       "      <td>AAL</td>\n",
       "      <td>CUN</td>\n",
       "      <td>MMUN</td>\n",
       "      <td>3</td>\n",
       "      <td>13:52:00</td>\n",
       "      <td>[{'airline_code': 'JL', 'flight_number': '7278'}]</td>\n",
       "      <td>DFW</td>\n",
       "      <td>KDFW</td>\n",
       "      <td>D</td>\n",
       "      <td>11:10:00</td>\n",
       "      <td>1001</td>\n",
       "      <td>[N127AA, N134AN, N135NN, N138AN, N141NN, N144A...</td>\n",
       "    </tr>\n",
       "  </tbody>\n",
       "</table>\n",
       "</div>"
      ],
      "text/plain": [
       "    0    1    2     3     4         5  \\\n",
       "0  AA  AAL  JFK  KJFK     8  07:11:00   \n",
       "1  AA  AAL  JFK  KJFK     8  05:53:00   \n",
       "2  AA  AAL  LHR  EGLL     3  06:20:00   \n",
       "3  AA  AAL  TPA  KTPA  None  15:41:00   \n",
       "4  AA  AAL  CUN  MMUN     3  13:52:00   \n",
       "\n",
       "                                                   6    7     8  9        10  \\\n",
       "0  [{'airline_code': 'AS', 'flight_number': '1568...  BOS  KBOS  B  06:00:00   \n",
       "1  [{'airline_code': 'AS', 'flight_number': '1749...  LAX  KLAX  4  21:15:00   \n",
       "2  [{'airline_code': 'AY', 'flight_number': '4012...  JFK  KJFK  8  18:15:00   \n",
       "3  [{'airline_code': 'AS', 'flight_number': '1179...  DFW  KDFW  C  12:15:00   \n",
       "4  [{'airline_code': 'JL', 'flight_number': '7278'}]  DFW  KDFW  D  11:10:00   \n",
       "\n",
       "     11                                                 12  \n",
       "0     1                                           [N151UW]  \n",
       "1    10  [N101NN, N102NN, N103NN, N104NN, N105NN, N106N...  \n",
       "2   100  [N756AM, N759AN, N760AN, N773AN, N788AN, N717A...  \n",
       "3  1000                                           [N555AN]  \n",
       "4  1001  [N127AA, N134AN, N135NN, N138AN, N141NN, N144A...  "
      ]
     },
     "execution_count": 49,
     "metadata": {},
     "output_type": "execute_result"
    }
   ],
   "source": [
    "aa_flight_df.head()"
   ]
  },
  {
   "cell_type": "code",
   "execution_count": 51,
   "metadata": {},
   "outputs": [
    {
     "data": {
      "text/plain": [
       "{'airlineIata': 'AA',\n",
       " 'airlineIcao': 'AAL',\n",
       " 'arrivalIata': 'JFK',\n",
       " 'arrivalIcao': 'KJFK',\n",
       " 'arrivalTerminal': '8',\n",
       " 'arrivalTime': '07:11:00',\n",
       " 'codeshares': [{'airline_code': 'AS', 'flight_number': '1568'},\n",
       "  {'airline_code': 'BA', 'flight_number': '2497'},\n",
       "  {'airline_code': 'CX', 'flight_number': '7723'},\n",
       "  {'airline_code': 'EY', 'flight_number': '3070'},\n",
       "  {'airline_code': 'JL', 'flight_number': '7453'},\n",
       "  {'airline_code': 'MH', 'flight_number': '9472'},\n",
       "  {'airline_code': 'QF', 'flight_number': '4646'}],\n",
       " 'departureIata': 'BOS',\n",
       " 'departureIcao': 'KBOS',\n",
       " 'departureTerminal': 'B',\n",
       " 'departureTime': '06:00:00',\n",
       " 'flightNumber': '1',\n",
       " 'regNumber': ['N151UW']}"
      ]
     },
     "execution_count": 51,
     "metadata": {},
     "output_type": "execute_result"
    }
   ],
   "source": [
    "aa_json[0]"
   ]
  },
  {
   "cell_type": "code",
   "execution_count": 52,
   "metadata": {},
   "outputs": [],
   "source": [
    "def dataframe_to_csv(f_dataframe, f_bucket, f_filename):\n",
    "    \"\"\" Write a dataframe to a CSV on S3 \"\"\"\n",
    "    # Create buffer\n",
    "    csv_buffer = StringIO()\n",
    "    # Write dataframe to buffer\n",
    "    f_dataframe.to_csv(csv_buffer, index=False)\n",
    "    # Create S3 object\n",
    "    s3_resource = boto3.resource(\"s3\")\n",
    "    #format s3 location\n",
    "    s3_location = 's3://{}'.format(f_bucket)\n",
    "    # Write buffer to S3 object\n",
    "    s3_resource.Object(f_bucket, f_filename).put(Body=csv_buffer.getvalue())"
   ]
  },
  {
   "cell_type": "code",
   "execution_count": 53,
   "metadata": {},
   "outputs": [],
   "source": [
    "dataframe_to_csv(aa_flight_df, bucket_name, 'AA_Flights_20201023.csv')"
   ]
  }
 ],
 "metadata": {
  "kernelspec": {
   "display_name": "conda_python3",
   "language": "python",
   "name": "conda_python3"
  },
  "language_info": {
   "codemirror_mode": {
    "name": "ipython",
    "version": 3
   },
   "file_extension": ".py",
   "mimetype": "text/x-python",
   "name": "python",
   "nbconvert_exporter": "python",
   "pygments_lexer": "ipython3",
   "version": "3.6.10"
  }
 },
 "nbformat": 4,
 "nbformat_minor": 4
}
